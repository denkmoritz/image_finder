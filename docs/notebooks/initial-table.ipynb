{
 "cells": [
  {
   "cell_type": "markdown",
   "id": "9ce78cbb",
   "metadata": {},
   "source": [
    "# Create dataset"
   ]
  },
  {
   "cell_type": "markdown",
   "id": "cfc4fec7",
   "metadata": {},
   "source": [
    "## Download Global Streetscapes Metadata from [NUS-UAL/global-streetscapes](https://huggingface.co/datasets/NUS-UAL/global-streetscapes/tree/main/data)"
   ]
  },
  {
   "cell_type": "code",
   "execution_count": null,
   "id": "a150f881",
   "metadata": {
    "vscode": {
     "languageId": "plaintext"
    }
   },
   "outputs": [],
   "source": [
    "from huggingface_hub import hf_hub_download\n",
    "import pandas as pd"
   ]
  },
  {
   "cell_type": "markdown",
   "id": "35555b02",
   "metadata": {},
   "source": [
    "The following files where chosen since they were considered as quite useful (really subjective though)."
   ]
  },
  {
   "cell_type": "code",
   "execution_count": null,
   "id": "8a573f87",
   "metadata": {
    "vscode": {
     "languageId": "plaintext"
    }
   },
   "outputs": [],
   "source": [
    "# Define dataset ID and target filenames\n",
    "dataset_id = \"NUS-UAL/global-streetscapes\"\n",
    "files = [\n",
    "    \"metadata_common_attributes.csv\",\n",
    "    \"metadata_mly1.csv\",\n",
    "    \"metadata_mly2.csv\",\n",
    "    \"osm.csv\",\n",
    "    \"perception.csv\",\n",
    "    \"places365.csv\",\n",
    "    \"season.csv\",\n",
    "    \"simplemaps.csv\",\n",
    "    \"contextual.csv\",\n",
    "]\n",
    "\n",
    "# Download each file from the \"data/\" folder in the dataset repo\n",
    "local_paths = []\n",
    "for fname in files:\n",
    "    path = hf_hub_download(\n",
    "        repo_id=dataset_id,\n",
    "        repo_type=\"dataset\",\n",
    "        filename=f\"data/{fname}\",\n",
    "        local_dir=\"data/\",\n",
    "        local_dir_use_symlinks=False,\n",
    "    )\n",
    "    local_paths.append(path)\n",
    "    print(f\"Downloaded {fname} -> {path}\")\n",
    "\n",
    "# Optional: load one of the CSVs into pandas\n",
    "import pandas as pd\n",
    "\n",
    "df = pd.read_csv(local_paths[0])\n",
    "df.head()"
   ]
  },
  {
   "cell_type": "markdown",
   "id": "deee4789",
   "metadata": {},
   "source": [
    "## Combine metadata in one file"
   ]
  },
  {
   "cell_type": "code",
   "execution_count": null,
   "id": "28ae18cd",
   "metadata": {
    "vscode": {
     "languageId": "plaintext"
    }
   },
   "outputs": [],
   "source": [
    "# Base CSV: Filter by source = 'Mapillary'\n",
    "metadata_common = pd.read_csv(\"data/metadata_common_attributes.csv\", usecols=['uuid', 'lat', 'lon', 'heading', 'orig_id', 'source'])\n",
    "metadata_common = metadata_common[metadata_common['source'] == 'Mapillary']\n",
    "\n",
    "# Function to safely merge another CSV by uuid\n",
    "def merge_csv(df_base, file_path, usecols):\n",
    "    df_add = pd.read_csv(file_path, usecols=usecols)\n",
    "    return df_base.merge(df_add, on='uuid', how='left')\n",
    "\n",
    "# Sequentially merge all additional files\n",
    "metadata_common = merge_csv(metadata_common, \"data/metadata_mly1.csv\", ['uuid', 'mly_quality_score'])\n",
    "metadata_common = merge_csv(metadata_common, \"data/metadata_mly2.csv\", ['uuid', 'mly_computed_compass_angle'])\n",
    "metadata_common = merge_csv(metadata_common, \"data/osm.csv\", ['uuid', 'type_highway'])\n",
    "metadata_common = merge_csv(metadata_common, \"data/perception.csv\", None)  # None = all columns\n",
    "metadata_common = merge_csv(metadata_common, \"data/places365.csv\", ['uuid', 'place'])\n",
    "metadata_common = merge_csv(metadata_common, \"data/season.csv\", ['uuid', 'season'])\n",
    "metadata_common = merge_csv(metadata_common, \"data/simplemaps.csv\", ['uuid', 'city_ascii', 'city_id', 'iso3', 'admin_name'])\n",
    "metadata_common = merge_csv(metadata_common, \"data/contextual.csv\", ['uuid', 'platform', 'view_direction', 'quality'])\n",
    "\n",
    "# Save final result\n",
    "metadata_common.to_csv(\"data/joined_metadata.csv\", index=False)\n",
    "\n",
    "print(\"Final dataset shape:\", metadata_common.shape)\n",
    "print(metadata_common.head())"
   ]
  },
  {
   "cell_type": "markdown",
   "id": "7142dbf9",
   "metadata": {},
   "source": [
    "## Build gpd-Dataframe"
   ]
  },
  {
   "cell_type": "code",
   "execution_count": null,
   "id": "b2e48041",
   "metadata": {
    "vscode": {
     "languageId": "plaintext"
    }
   },
   "outputs": [],
   "source": [
    "# Read file\n",
    "data = pd.read_csv(\"data/joined_metadata.csv\")\n",
    "print(data.head())"
   ]
  },
  {
   "cell_type": "code",
   "execution_count": null,
   "id": "ad2c573e",
   "metadata": {
    "vscode": {
     "languageId": "plaintext"
    }
   },
   "outputs": [],
   "source": [
    "# Create gdf\n",
    "gdf = gpd.GeoDataFrame(\n",
    "    data, geometry=gpd.points_from_xy(data.lon, data.lat), crs=\"EPSG:4326\"\n",
    ")"
   ]
  },
  {
   "cell_type": "markdown",
   "id": "0b620928",
   "metadata": {},
   "source": [
    "## Connect to PostgreSQL"
   ]
  },
  {
   "cell_type": "code",
   "execution_count": null,
   "id": "2347c4c6",
   "metadata": {
    "vscode": {
     "languageId": "plaintext"
    }
   },
   "outputs": [],
   "source": [
    "# Database connection info\n",
    "# Change credentials if necessary\n",
    "\n",
    "host = \"localhost\"\n",
    "database = \"gis\"\n",
    "user = \"moritz\"\n",
    "port = \"25432\"\n",
    "password = getpass(\"Enter your password: \")\n",
    "\n",
    "# URL-encode the password to handle special characters\n",
    "encoded_password = quote_plus(password)\n",
    "\n",
    "# Add the port in the connection string\n",
    "connection_string = f\"postgresql://{user}:{encoded_password}@{host}:{port}/{database}\"\n",
    "\n",
    "from sqlalchemy import create_engine\n",
    "\n",
    "engine = create_engine(connection_string)\n",
    "\n",
    "# If you want to use %sql magic in Jupyter\n",
    "%reload_ext sql\n",
    "%sql $connection_string\n",
    "%config SqlMagic.style = 'DEFAULT'"
   ]
  },
  {
   "cell_type": "code",
   "execution_count": null,
   "id": "181cacd6",
   "metadata": {
    "vscode": {
     "languageId": "plaintext"
    }
   },
   "outputs": [],
   "source": [
    "# Create table\n",
    "gdf.to_postgis('global_streetscapes', engine, if_exists='replace', index=False)"
   ]
  },
  {
   "cell_type": "code",
   "execution_count": null,
   "id": "f0338081",
   "metadata": {
    "vscode": {
     "languageId": "plaintext"
    }
   },
   "outputs": [],
   "source": [
    "# Create spatial index\n",
    "%%sql\n",
    "DROP INDEX IF EXISTS idx_global_streetscapes_spgist_geometry;\n",
    "CREATE INDEX idx_global_streetscapes_spgist_geometry ON global_streetscapes USING SPGIST (geometry)"
   ]
  },
  {
   "cell_type": "code",
   "execution_count": null,
   "id": "5b20ff5a",
   "metadata": {
    "vscode": {
     "languageId": "plaintext"
    }
   },
   "outputs": [],
   "source": [
    "# Test if it worked\n",
    "%%sql\n",
    "SELECT * FROM global_streetscapes LIMIT 1;"
   ]
  },
  {
   "cell_type": "markdown",
   "id": "0c229c17",
   "metadata": {},
   "source": [
    "# Create table 'berlin'"
   ]
  },
  {
   "cell_type": "code",
   "execution_count": null,
   "id": "8ac39fc7",
   "metadata": {
    "vscode": {
     "languageId": "plaintext"
    }
   },
   "outputs": [],
   "source": [
    "%%sql\n",
    "DROP TABLE iF EXISTS berlin;\n",
    "CREATE TABLE berlin AS\n",
    "SELECT *\n",
    "FROM global_streetscapes\n",
    "WHERE city_ascii = 'Berlin'\n",
    "AND mly_quality_score >= 0.95\n",
    "AND ABS(heading - mly_computed_compass_angle) <= 10;"
   ]
  },
  {
   "cell_type": "code",
   "execution_count": null,
   "id": "516d344c",
   "metadata": {
    "vscode": {
     "languageId": "plaintext"
    }
   },
   "outputs": [],
   "source": [
    "# UTM for meters\n",
    "%%sql\n",
    "ALTER TABLE berlin ADD COLUMN geometry_32633 geometry(Geometry, 32633);\n",
    "UPDATE berlin\n",
    "SET geometry_32633 = ST_Transform(geometry, 32633);"
   ]
  },
  {
   "cell_type": "code",
   "execution_count": null,
   "id": "25f3c899",
   "metadata": {
    "vscode": {
     "languageId": "plaintext"
    }
   },
   "outputs": [],
   "source": [
    "# Create spatial index\n",
    "%%sql\n",
    "CREATE INDEX idx_berlin_spgist_geometry_32633 ON berlin USING SPGIST (geometry_32633);"
   ]
  },
  {
   "cell_type": "code",
   "execution_count": null,
   "id": "6670fcba",
   "metadata": {
    "vscode": {
     "languageId": "plaintext"
    }
   },
   "outputs": [],
   "source": [
    "# Test if it worked\n",
    "%%sql\n",
    "SELECT * FROM berlin LIMIT 1;"
   ]
  },
  {
   "cell_type": "markdown",
   "id": "6280ab77",
   "metadata": {},
   "source": [
    "## 'berlin' needs to be modified \n",
    "\n",
    "The lat & long columns are unprecise, as a result we also add the computed lat & long from mapillary."
   ]
  },
  {
   "cell_type": "code",
   "execution_count": null,
   "id": "27ce6b3c",
   "metadata": {
    "vscode": {
     "languageId": "plaintext"
    }
   },
   "outputs": [],
   "source": [
    "# Add to new columns\n",
    "%%sql\n",
    "ALTER TABLE berlin\n",
    "ADD COLUMN comp_lat double precision,\n",
    "ADD COLUMN comp_lon double precision"
   ]
  },
  {
   "cell_type": "code",
   "execution_count": null,
   "id": "121c08d6",
   "metadata": {
    "vscode": {
     "languageId": "plaintext"
    }
   },
   "outputs": [],
   "source": [
    "import os\n",
    "import requests\n",
    "from sqlalchemy import text\n",
    "from tqdm import tqdm"
   ]
  },
  {
   "cell_type": "markdown",
   "id": "6452bfd1",
   "metadata": {},
   "source": [
    "## Set mapillary token"
   ]
  },
  {
   "cell_type": "code",
   "execution_count": null,
   "id": "7ab8dbd2",
   "metadata": {
    "vscode": {
     "languageId": "plaintext"
    }
   },
   "outputs": [],
   "source": [
    "os.environ[\"MAPILLARY_TOKEN\"] = \"<YOUR_API_KEY>\"\n",
    "token = os.environ[\"MAPILLARY_TOKEN\"]\n",
    "\n",
    "def fetch_metadata(img_id: str, token: str) -> tuple[float, float] | None:\n",
    "    \"\"\"\n",
    "    Return (lon, lat) from Mapillary’s computed_geometry or None if missing.\n",
    "    \"\"\"\n",
    "    url = (\n",
    "        f\"https://graph.mapillary.com/{img_id}\"\n",
    "        f\"?access_token={token}\"\n",
    "        \"&fields=id,computed_geometry\"\n",
    "    )\n",
    "    r = requests.get(url, timeout=10)\n",
    "    r.raise_for_status()\n",
    "    coords = r.json().get(\"computed_geometry\", {}).get(\"coordinates\")\n",
    "    if coords and len(coords) == 2:\n",
    "        lon, lat = coords      # Mapillary returns [lon, lat]\n",
    "        return lon, lat\n",
    "    return None"
   ]
  },
  {
   "cell_type": "markdown",
   "id": "d03af659",
   "metadata": {},
   "source": [
    "## Collect the IDs that need updating"
   ]
  },
  {
   "cell_type": "code",
   "execution_count": null,
   "id": "dafd2d15",
   "metadata": {
    "vscode": {
     "languageId": "plaintext"
    }
   },
   "outputs": [],
   "source": [
    "with engine.connect() as conn:\n",
    "    ids_to_update = conn.execute(text(\"\"\"\n",
    "        SELECT orig_id_x\n",
    "        FROM berlin\n",
    "        WHERE comp_lat IS NULL\n",
    "           OR comp_lon IS NULL;\n",
    "    \"\"\")).scalars().all()\n",
    "\n",
    "print(f\"Found {len(ids_to_update)} images that need coordinates.\")"
   ]
  },
  {
   "cell_type": "markdown",
   "id": "e2e5988d",
   "metadata": {},
   "source": [
    "## Call mapillary & build a VALUES list for bulk update"
   ]
  },
  {
   "cell_type": "code",
   "execution_count": null,
   "id": "dab2b34f",
   "metadata": {
    "vscode": {
     "languageId": "plaintext"
    }
   },
   "outputs": [],
   "source": [
    "values = []\n",
    "for img_id in tqdm(ids_to_update, desc=\"Fetching Mapillary metadata\"):\n",
    "    coords = None\n",
    "    try:\n",
    "        coords = fetch_metadata(img_id, token)\n",
    "    except Exception as e:\n",
    "        print(f\"{img_id}: {e}\")\n",
    "\n",
    "    if coords:\n",
    "        lon, lat = coords\n",
    "        values.append((img_id, lon, lat))\n",
    "\n",
    "print(f\"Prepared {len(values)} rows for UPDATE.\")"
   ]
  },
  {
   "cell_type": "markdown",
   "id": "ce3014f8",
   "metadata": {},
   "source": [
    "## One bulk UPDATE back into PostGIS"
   ]
  },
  {
   "cell_type": "code",
   "execution_count": null,
   "id": "7aed6a7c",
   "metadata": {
    "vscode": {
     "languageId": "plaintext"
    }
   },
   "outputs": [],
   "source": [
    "if values:\n",
    "    values_clause = \",\\n\".join(\n",
    "        f\"({img_id}, {lon}, {lat})\"\n",
    "        for img_id, lon, lat in values\n",
    "    )\n",
    "\n",
    "    sql = f\"\"\"\n",
    "        UPDATE berlin AS b\n",
    "           SET comp_lon = v.lon,\n",
    "               comp_lat = v.lat\n",
    "          FROM (VALUES\n",
    "                {values_clause}\n",
    "          ) AS v(orig_id_x, lon, lat)\n",
    "         WHERE b.orig_id_x = v.orig_id_x;\n",
    "    \"\"\"\n",
    "\n",
    "    with engine.begin() as conn:\n",
    "        conn.execute(text(sql))\n",
    "\n",
    "    print(\"PostGIS table updated.\")\n",
    "\n",
    "else:\n",
    "    print(\"Nothing to update – all rows already have comp_lat/comp_lon.\")"
   ]
  },
  {
   "cell_type": "markdown",
   "id": "bb84091f",
   "metadata": {},
   "source": [
    "## Create the new geom column"
   ]
  },
  {
   "cell_type": "code",
   "execution_count": null,
   "id": "7a8eb5fb",
   "metadata": {
    "vscode": {
     "languageId": "plaintext"
    }
   },
   "outputs": [],
   "source": [
    "%%sql\n",
    "ALTER TABLE berlin ADD COLUMN geom_comp geometry(Point, 4326)"
   ]
  },
  {
   "cell_type": "code",
   "execution_count": null,
   "id": "8a77baca",
   "metadata": {
    "vscode": {
     "languageId": "plaintext"
    }
   },
   "outputs": [],
   "source": [
    "%%sql\n",
    "UPDATE berlin SET geom_comp = ST_SetSRID(ST_MakePoint(comp_lon, comp_lat), 4326)"
   ]
  },
  {
   "cell_type": "code",
   "execution_count": null,
   "id": "de299908",
   "metadata": {
    "vscode": {
     "languageId": "plaintext"
    }
   },
   "outputs": [],
   "source": [
    "%%sql\n",
    "ALTER TABLE berlin ADD COLUMN geometry_comp_32633 geometry(Geometry, 32633);\n",
    "UPDATE berlin\n",
    "SET geometry_comp_32633 = ST_Transform(geom_comp, 32633)"
   ]
  }
 ],
 "metadata": {
  "language_info": {
   "name": "python"
  }
 },
 "nbformat": 4,
 "nbformat_minor": 5
}
